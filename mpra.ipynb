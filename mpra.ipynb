{
 "cells": [
  {
   "cell_type": "markdown",
   "id": "dceb8b69-6fe0-4879-85b8-de63b08cb96c",
   "metadata": {},
   "source": [
    "# Museu de Percurso Raphael Arcuri"
   ]
  },
  {
   "cell_type": "markdown",
   "id": "82ee36aa-1f9d-4baf-bbc9-ed62924a7db1",
   "metadata": {},
   "source": [
    "No fim de semana, foi inaugurado oficialmente o [Museu de Percurso Raphael Arcuri](https://www.instagram.com/museuraphaelarcuri?igsh=MWRjNWV1cnZnczE5aQ==) , projeto desenvolvido por [Letícia Rabelo](https://www.instagram.com/leticiarabelo.arq?igsh=dndsYTdsemM4ZWdw) que consiste em um passeio guiado, para explorar a pé as fachadas de edificações consideradas como patrimônio histórico da cidade, de acordo com o roteiro baseado em algumas obras do arquiteto ítalo-brasileiro, reconhecido por projetar diversas construções em Juiz de Fora, no início do século XX."
   ]
  },
  {
   "cell_type": "markdown",
   "id": "8f6a8ac9-670e-400f-988d-b226710498db",
   "metadata": {},
   "source": [
    "## Mapa interativo"
   ]
  },
  {
   "cell_type": "markdown",
   "id": "f438bfe6-08de-413e-a004-2b852667cfa9",
   "metadata": {},
   "source": [
    "Inspirados na série de artigos escrita por **Carlos Jimenez Uribe**, intitulada *An intelligent decision support system for tourism in Python*, reproduzimos o trajeto em um mapa interativo, para fins didáticos, por meio de bibliotecas do Python"
   ]
  },
  {
   "cell_type": "markdown",
   "id": "1764d082-f78a-4912-864b-593713a90bbe",
   "metadata": {},
   "source": [
    "### Importamos as bibliotecas"
   ]
  },
  {
   "cell_type": "code",
   "execution_count": null,
   "id": "89ac9195-87d7-4fe4-9880-87915e451b0a",
   "metadata": {},
   "outputs": [],
   "source": [
    "import pandas as pd\n",
    "import folium\n",
    "from folium.plugins import Fullscreen\n",
    "from typing import Tuple, List, Dict\n",
    "\n",
    "pd.set_option('display.precision', 15)"
   ]
  },
  {
   "cell_type": "markdown",
   "id": "7bc5fc4b-c61c-446d-b514-e6f2aad57d5d",
   "metadata": {},
   "source": [
    "### Definimos o data frame"
   ]
  },
  {
   "cell_type": "markdown",
   "id": "6c7d2eb0-f4cb-4d57-abcb-7f584a92fe11",
   "metadata": {},
   "source": [
    "Criamos o *data frame* contendo as coordenadas geográficas das obras de *Raphael Arcuri*."
   ]
  },
  {
   "cell_type": "code",
   "execution_count": null,
   "id": "41634e06-e499-4c45-a01b-18a4980e1a39",
   "metadata": {},
   "outputs": [],
   "source": [
    "\n",
    "df_obras = pd.DataFrame(\n",
    "    [['Paço Municipal', -21.76147732383513, -43.349845686905425],\n",
    "    ['ED. CIAMPI', -21.760658258306233, -43.349631277710635],\n",
    "    ['Galeria Pio X', -21.76024609457489, -43.348784136608764],\n",
    "    ['Cine Theatro Central', -21.761301064584814, -43.347923147523424],\n",
    "    ['Palacete Pinho', -21.760579286799263, -43.34682958935376],\n",
    "    ['Cia. Dias Cardoso', -21.760207713387064, -43.34475343168256],\n",
    "    ['Hotel Príncipe', -21.7599733, -43.3440394],\n",
    "    ['Associação Comercial', -21.759722222222223, -43.344166666666666],\n",
    "    ['Cia. Pantaleone Arcuri', -21.762723242493465, -43.342729824323776],\n",
    "    ['Vila Iracema', -21.763148754507743, -43.34462311819184],\n",
    "    ['Palacete dos Fellet', -21.76334208845321, -43.34573104693755],\n",
    "    ['Residência Raphael Arcuri', -21.76393346168443, -43.34205031818927],\n",
    "    ['Castelinho dos Bracher', -21.763894356739176, -43.341967760518045],\n",
    "    ['Casa D´Itália', -21.764444444444443, -43.34861111111111]],\n",
    "    columns=pd.Index(['obra', 'latitude', 'longitude'], name='JF')\n",
    ")"
   ]
  },
  {
   "cell_type": "markdown",
   "id": "4330a204-99c6-4214-8158-f73e7fa6580a",
   "metadata": {},
   "source": [
    "### Inspecionamos o *data frame*"
   ]
  },
  {
   "cell_type": "code",
   "execution_count": null,
   "id": "eeaa7161-cfd4-417f-bf76-6e6db4ead7b9",
   "metadata": {
    "scrolled": true
   },
   "outputs": [],
   "source": [
    "print(df_obras)"
   ]
  },
  {
   "cell_type": "markdown",
   "id": "7a539ca0-8c69-4e9d-ad01-1b4e888b2382",
   "metadata": {},
   "source": [
    "### Centralizamos o mapa"
   ]
  },
  {
   "cell_type": "code",
   "execution_count": null,
   "id": "6566d1a8-325b-4bb2-9b3e-96bf488e9f9a",
   "metadata": {},
   "outputs": [],
   "source": [
    "avg_location = df_obras[['latitude', 'longitude']].mean()\n",
    "coords_list = avg_location.tolist()\n",
    "\n",
    "map_jf = folium.Map(location=coords_list, zoom_start=13)"
   ]
  },
  {
   "cell_type": "markdown",
   "id": "1c200010-7e44-48a1-b6f2-5b757b7d23b5",
   "metadata": {},
   "source": [
    "### Definimos os marcadores"
   ]
  },
  {
   "cell_type": "markdown",
   "id": "fb50e77e-5ec2-4ad4-8d31-7b2cf818afbb",
   "metadata": {},
   "source": [
    "Utilizamos marcadores padronizados para o mapa básico."
   ]
  },
  {
   "cell_type": "code",
   "execution_count": null,
   "id": "119aebb9-7cb1-4f62-ae5c-ce735864fa63",
   "metadata": {},
   "outputs": [],
   "source": [
    "for obra in df_obras.itertuples():\n",
    "    marker = folium.Marker(location=(obra.latitude, obra.longitude),\n",
    "                           tooltip=obra.obra)\n",
    "    marker.add_to(map_jf)\n",
    "\n",
    "map_jf"
   ]
  },
  {
   "cell_type": "markdown",
   "id": "9f236b66-7824-4229-a94f-d8f45c6e0170",
   "metadata": {},
   "source": [
    "### Definimos o roteiro"
   ]
  },
  {
   "cell_type": "markdown",
   "id": "fb2321be-69be-4bff-bdec-d3075275c844",
   "metadata": {},
   "source": [
    "Inicialmente, definimos o roteiro com catorze paradas, embora o programa oficial contemple apenas doze. Por outro lado, repetimos o circuito aberto, em comum acordo com o material de divulgação, ao contrário do circuito fechado, que sempre retorna ao ponto de partida. Os índices  determinan a sequência do circuito."
   ]
  },
  {
   "cell_type": "code",
   "execution_count": null,
   "id": "c9e1d487-9d8d-4039-b498-a77b654afbb3",
   "metadata": {},
   "outputs": [],
   "source": [
    "df_route = df_obras.copy()\n",
    "df_route.index.name = 'sequência'\n",
    "\n",
    "print(df_route)"
   ]
  },
  {
   "cell_type": "markdown",
   "id": "b70cc4e5-ce7a-4c43-a1fb-2a169fafe091",
   "metadata": {},
   "source": [
    "### Definimos os etapas do passeio"
   ]
  },
  {
   "cell_type": "code",
   "execution_count": null,
   "id": "f338c724-b55d-41e3-9127-7956421a8845",
   "metadata": {},
   "outputs": [],
   "source": [
    "df_route_segments = df_route.join(\n",
    "    df_route.shift(-1),  # map each stop to its next stop\n",
    "    rsuffix='_next'\n",
    ").dropna()  # last stop has no \"next one\", so drop it\n",
    "\n",
    "print(df_route_segments)"
   ]
  },
  {
   "cell_type": "markdown",
   "id": "a93d36ce-e85d-472d-9232-512c98ab9501",
   "metadata": {},
   "source": [
    "### Criamos o mapa interativo com marcadors personalizados"
   ]
  },
  {
   "cell_type": "code",
   "execution_count": null,
   "id": "e47a9cec-0cbb-49d7-8200-60d6318c29a0",
   "metadata": {},
   "outputs": [],
   "source": [
    "# Converta avg_location para uma tupla se for uma série do pandas\n",
    "if hasattr(avg_location, 'iloc'):\n",
    "    avg_location = (avg_location.iloc[0], avg_location.iloc[1])\n",
    "\n",
    "map_jf = folium.Map(location=avg_location, zoom_start=13)\n",
    "\n",
    "# Obter o número total de pontos na rota\n",
    "total_points = len(df_route)\n",
    "\n",
    "for i, stop in enumerate(df_route_segments.itertuples()):\n",
    "    # Definir a cor do ícone baseado na posição na rota\n",
    "    if i == 0:  # Primeiro ponto - azul\n",
    "        icon_color = \"blue\"\n",
    "    elif i == total_points - 1:  # Penúltimo ponto (o último segmento)\n",
    "        icon_color = \"red\"\n",
    "    else:  # Pontos intermediários - verde\n",
    "        icon_color = \"green\"\n",
    "    \n",
    "    # Definir o marcador da parada atual\n",
    "    marker = folium.Marker(location=(stop.latitude, stop.longitude),\n",
    "                           tooltip=stop.obra,\n",
    "                           icon=folium.Icon(color=icon_color, icon=\"monument\", prefix=\"fa\"))\n",
    "    \n",
    "    # Representar cada etapa do trajeto por um segmento de reta\n",
    "    line = folium.PolyLine(\n",
    "        locations=[(stop.latitude, stop.longitude), \n",
    "                   (stop.latitude_next, stop.longitude_next)],\n",
    "        tooltip=f\"De {stop.obra} até {stop.obra_next}\",\n",
    "    )\n",
    "    # Adiconar elementos ao mapa\n",
    "    marker.add_to(map_jf)\n",
    "    line.add_to(map_jf)\n",
    "\n",
    "# Definir o marcador da última parada - usando cor vermelha\n",
    "folium.Marker(location=(stop.latitude_next, stop.longitude_next),\n",
    "              tooltip=stop.obra_next,\n",
    "              icon=folium.Icon(color=\"red\", icon=\"monument\", prefix=\"fa\")).add_to(map_jf)\n",
    "\n",
    "map_jf"
   ]
  },
  {
   "cell_type": "markdown",
   "id": "b3793501-f4fd-4e27-8c91-3cfb21682a5d",
   "metadata": {},
   "source": [
    "### Definimos a função para cálculo da distância"
   ]
  },
  {
   "cell_type": "code",
   "execution_count": null,
   "id": "6ed79f1a-e1aa-438c-a601-259a1e2f4e3b",
   "metadata": {},
   "outputs": [],
   "source": [
    "from geopy.distance import geodesic\n",
    "\n",
    "_Location = Tuple[float, float]\n",
    "\n",
    "\n",
    "def ellipsoidal_distance(point1: _Location, point2: _Location) -> float:\n",
    "    \"\"\"Calculate ellipsoidal distance (in meters) between point1 and \n",
    "    point2 where each point is represented as a tuple (lat, lon)\"\"\"\n",
    "    return geodesic(point1, point2).meters"
   ]
  },
  {
   "cell_type": "markdown",
   "id": "706aa5b7-b2d0-46ff-b870-a0ae099cd36a",
   "metadata": {},
   "source": [
    "### Calculamos a matriz de distância"
   ]
  },
  {
   "cell_type": "markdown",
   "id": "75a741b9-1b23-401e-bc87-8448781efeb6",
   "metadata": {},
   "source": [
    "Calculamos a distância de cada etapa do circuito."
   ]
  },
  {
   "cell_type": "code",
   "execution_count": null,
   "id": "cffd4dfb-e46c-4841-934f-b0ea5a695b14",
   "metadata": {},
   "outputs": [],
   "source": [
    "df_route_segments['distance_seg'] = df_route_segments.apply(\n",
    "    lambda stop: ellipsoidal_distance(\n",
    "        (stop.latitude, stop.longitude), \n",
    "        (stop.latitude_next, stop.longitude_next)), \n",
    "    axis=1\n",
    ")\n",
    "\n",
    "print(df_route_segments)\n"
   ]
  },
  {
   "cell_type": "markdown",
   "id": "d1d646a2-0d91-4e39-acc6-c9b18e6b8645",
   "metadata": {},
   "source": [
    "### Calculamos a distância total a ser percorrida (km)"
   ]
  },
  {
   "cell_type": "code",
   "execution_count": null,
   "id": "b7982770-ad14-43b8-9f6a-e3aa3d76d34b",
   "metadata": {},
   "outputs": [],
   "source": [
    "total_distance = df_route_segments['distance_seg'].sum()/1000\n",
    "print(total_distance)"
   ]
  },
  {
   "cell_type": "markdown",
   "id": "ddcfe062-6df8-474b-bfd9-c3efa33d3239",
   "metadata": {},
   "source": [
    "### Criamos o mapa definitivo personalizado"
   ]
  },
  {
   "cell_type": "code",
   "execution_count": null,
   "id": "83adcaf1-fe59-447a-a175-9f7a6c63b6e3",
   "metadata": {},
   "outputs": [],
   "source": [
    "map_jf = folium.Map(location=avg_location, zoom_start=13)\n",
    "\n",
    "# Adicionar apenas o plugin de tela cheia\n",
    "Fullscreen(\n",
    "    position='bottomleft',\n",
    "    title='Expandir',\n",
    "    title_cancel='Sair',\n",
    "    force_separate_button=True\n",
    ").add_to(map_jf)\n",
    "\n",
    "# Adicionar título no canto superior esquerdo\n",
    "title_html = '''\n",
    "    <div style=\"position: fixed; \n",
    "                top: 10px; left: 50px; width: auto; height: auto; \n",
    "                background-color: white; padding: 10px; z-index:9999;\n",
    "                border: 2px solid grey; border-radius: 5px;\n",
    "                font-family: Arial; font-size: 14px\">\n",
    "        <b>Museu de Percurso</b><br>\n",
    "        <b><i>Raphael Arcuri</b></i><br>\n",
    "        Projeto: <i>Letícia Rabelo</i>\n",
    "    </div>\n",
    "'''\n",
    "map_jf.get_root().html.add_child(folium.Element(title_html))\n",
    "\n",
    "# Adicionar distância percorrida no canto inferior direito\n",
    "distance_html = f'''\n",
    "    <div style=\"position: fixed; \n",
    "                bottom: 10px; right: 10px; width: auto; height: auto; \n",
    "                background-color: white; padding: 10px; z-index:9999;\n",
    "                border: 2px solid grey; border-radius: 5px;\n",
    "                font-family: Arial; font-size: 14px\">\n",
    "        <b>Distância Percorrida</b><br>\n",
    "        {total_distance:.2f} km\n",
    "    </div>\n",
    "'''\n",
    "map_jf.get_root().html.add_child(folium.Element(distance_html))\n",
    "\n",
    "\n",
    "for stop in df_route_segments.itertuples():\n",
    "    initial_stop = stop.Index == 0\n",
    "    # marker for current stop\n",
    "    icon = folium.Icon(icon='monument',\n",
    "                       color='cadetblue' if initial_stop else 'orange',\n",
    "                      prefix=\"fa\")\n",
    "                       \n",
    "    marker = folium.Marker(\n",
    "        location=(stop.latitude, stop.longitude),\n",
    "        icon=icon, \n",
    "        # Exibir o nome e o número de cada parada\n",
    "        tooltip=f\"<b>Nome</b>: {stop.obra} <br>\" \\\n",
    "              + f\"<b>Parada</b>: {stop.Index} <br>\"\n",
    "    )\n",
    "    # Representar cada etapa do trajeto por um segmento de reta\n",
    "    line = folium.PolyLine(\n",
    "        locations=[(stop.latitude, stop.longitude), \n",
    "                   (stop.latitude_next, stop.longitude_next)],\n",
    "        # display the start, end, and distance of each segment\n",
    "        tooltip=f\"<b>De</b>: {stop.obra} <br>\" \\\n",
    "              + f\"<b>Até</b>: {stop.obra_next} <br>\" \\\n",
    "              + f\"<b>Distância</b>: {stop.distance_seg:.0f} m\",\n",
    "    )\n",
    "    # Adicionar elementos ao mapa\n",
    "    marker.add_to(map_jf)\n",
    "    line.add_to(map_jf)\n",
    "\n",
    "# Definir a última parada do trajeto com um marcador especial\n",
    "folium.Marker(\n",
    "    location=(stop.latitude_next, stop.longitude_next),\n",
    "    tooltip=f\"<b>Nome</b>: {stop.obra_next} <br>\" \\\n",
    "          + f\"<b>Parada</b>: {stop.Index + 1} <br>\", \n",
    "    icon = folium.Icon(icon='monument', color='red', prefix=\"fa\")\n",
    ").add_to(map_jf);\n",
    "\n",
    "# Salvar mapa\n",
    "map_jf.save(\"roteiro_mpra.html\")\n",
    "\n",
    "map_jf  # show map\n"
   ]
  },
  {
   "cell_type": "markdown",
   "id": "8a4ec288-f9dc-4ed6-9f1d-460c74eb59e4",
   "metadata": {},
   "source": [
    "**Referências**\n",
    "\n",
    "Uribe, C. J. (2024). *An intelligent decision support system for tourism in Python*. Publicado em Jan 16, 2024. Disponível em: https://medium.com/@carlosjuribe/list/an-intelligent-decision-support-system-for-tourism-in-python-b6ba165b4236"
   ]
  },
  {
   "cell_type": "code",
   "execution_count": null,
   "id": "0c7b5b80-2156-4ad2-a3c9-c8780a36baae",
   "metadata": {},
   "outputs": [],
   "source": []
  }
 ],
 "metadata": {
  "kernelspec": {
   "display_name": "Python 3 (ipykernel)",
   "language": "python",
   "name": "python3"
  },
  "language_info": {
   "codemirror_mode": {
    "name": "ipython",
    "version": 3
   },
   "file_extension": ".py",
   "mimetype": "text/x-python",
   "name": "python",
   "nbconvert_exporter": "python",
   "pygments_lexer": "ipython3",
   "version": "3.12.3"
  }
 },
 "nbformat": 4,
 "nbformat_minor": 5
}
